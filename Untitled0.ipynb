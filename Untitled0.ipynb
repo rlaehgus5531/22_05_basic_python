{
  "nbformat": 4,
  "nbformat_minor": 0,
  "metadata": {
    "colab": {
      "provenance": [],
      "authorship_tag": "ABX9TyPqzbdvIyYo80Fs4RUDn3rQ",
      "include_colab_link": true
    },
    "kernelspec": {
      "name": "python3",
      "display_name": "Python 3"
    },
    "language_info": {
      "name": "python"
    }
  },
  "cells": [
    {
      "cell_type": "markdown",
      "metadata": {
        "id": "view-in-github",
        "colab_type": "text"
      },
      "source": [
        "<a href=\"https://colab.research.google.com/github/rlaehgus5531/22_05_basic_python/blob/main/Untitled0.ipynb\" target=\"_parent\"><img src=\"https://colab.research.google.com/assets/colab-badge.svg\" alt=\"Open In Colab\"/></a>"
      ]
    },
    {
      "cell_type": "code",
      "execution_count": 3,
      "metadata": {
        "colab": {
          "base_uri": "https://localhost:8080/"
        },
        "id": "osgP_zSCLyGA",
        "outputId": "1a018485-2182-49b6-d346-31e0a16fbbfd"
      },
      "outputs": [
        {
          "output_type": "stream",
          "name": "stdout",
          "text": [
            "x= 10\n",
            "x= 3.14\n",
            "x= HELLO WORLD!\n"
          ]
        }
      ],
      "source": [
        "x = 10 \n",
        "print(\"x=\",x)\n",
        "x =  3.14\n",
        "print(\"x=\",x)\n",
        "x = \"HELLO WORLD!\"\n",
        "print(\"x=\",x)"
      ]
    },
    {
      "cell_type": "code",
      "source": [
        "x = input(\"정수를 입력하시오\")\n",
        "y = input(\"정수를 입력하시오\")\n",
        "print (x+y)"
      ],
      "metadata": {
        "colab": {
          "base_uri": "https://localhost:8080/"
        },
        "id": "RhEfcaJXOX1y",
        "outputId": "7a6ba6fb-5c15-4006-e24c-39ed7292beb9"
      },
      "execution_count": 4,
      "outputs": [
        {
          "output_type": "stream",
          "name": "stdout",
          "text": [
            "정수를 입력하시오100\n",
            "정수를 입력하시오200\n",
            "100200\n"
          ]
        }
      ]
    },
    {
      "cell_type": "code",
      "source": [
        "x = int(input(\"정수를 입력하시오\"))\n",
        "y = int(input(\"정수를 입력하시오\"))\n",
        "print (x+y)"
      ],
      "metadata": {
        "colab": {
          "base_uri": "https://localhost:8080/"
        },
        "id": "7gW_zIuTTWWm",
        "outputId": "8473ae5b-7175-4751-b26b-3e41d4e5e3ca"
      },
      "execution_count": 5,
      "outputs": [
        {
          "output_type": "stream",
          "name": "stdout",
          "text": [
            "정수를 입력하시오100\n",
            "정수를 입력하시오200\n",
            "300\n"
          ]
        }
      ]
    },
    {
      "cell_type": "code",
      "source": [
        "t = input(\"정수를 입력하시오.\")\n",
        "x = int(t)\n",
        "t = input(\"정수를 입력하시오.\")\n",
        "y = int(t)\n",
        "print(x+y)"
      ],
      "metadata": {
        "colab": {
          "base_uri": "https://localhost:8080/"
        },
        "id": "DYzFAHApU7Gs",
        "outputId": "49928aaa-17a2-45fd-cb5f-01e9df39a198"
      },
      "execution_count": 6,
      "outputs": [
        {
          "output_type": "stream",
          "name": "stdout",
          "text": [
            "정수를 입력하시오.100\n",
            "정수를 입력하시오.200\n",
            "300\n"
          ]
        }
      ]
    }
  ]
}